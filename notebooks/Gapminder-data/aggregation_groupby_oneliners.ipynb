{
 "cells": [
  {
   "cell_type": "code",
   "execution_count": 2,
   "id": "dbab8833",
   "metadata": {},
   "outputs": [],
   "source": [
    "import pandas as pd\n",
    "import numpy as np\n",
    "import matplotlib.pyplot as plt\n",
    "import seaborn as sns"
   ]
  },
  {
   "cell_type": "code",
   "execution_count": 3,
   "id": "ce217cc0",
   "metadata": {},
   "outputs": [],
   "source": [
    "df = pd.read_csv(\"../data/gapminder_total.csv\")"
   ]
  },
  {
   "cell_type": "code",
   "execution_count": 140,
   "id": "137a97d2",
   "metadata": {},
   "outputs": [
    {
     "data": {
      "text/html": [
       "<div>\n",
       "<style scoped>\n",
       "    .dataframe tbody tr th:only-of-type {\n",
       "        vertical-align: middle;\n",
       "    }\n",
       "\n",
       "    .dataframe tbody tr th {\n",
       "        vertical-align: top;\n",
       "    }\n",
       "\n",
       "    .dataframe thead th {\n",
       "        text-align: right;\n",
       "    }\n",
       "</style>\n",
       "<table border=\"1\" class=\"dataframe\">\n",
       "  <thead>\n",
       "    <tr style=\"text-align: right;\">\n",
       "      <th></th>\n",
       "      <th>continent</th>\n",
       "      <th>country</th>\n",
       "      <th>year</th>\n",
       "      <th>life expectancy</th>\n",
       "      <th>fertility</th>\n",
       "      <th>population</th>\n",
       "    </tr>\n",
       "  </thead>\n",
       "  <tbody>\n",
       "    <tr>\n",
       "      <th>0</th>\n",
       "      <td>Africa</td>\n",
       "      <td>Algeria</td>\n",
       "      <td>1950</td>\n",
       "      <td>42.77</td>\n",
       "      <td>7.65</td>\n",
       "      <td>8872247.0</td>\n",
       "    </tr>\n",
       "    <tr>\n",
       "      <th>1</th>\n",
       "      <td>Africa</td>\n",
       "      <td>Algeria</td>\n",
       "      <td>1951</td>\n",
       "      <td>43.03</td>\n",
       "      <td>7.65</td>\n",
       "      <td>9039913.0</td>\n",
       "    </tr>\n",
       "    <tr>\n",
       "      <th>2</th>\n",
       "      <td>Africa</td>\n",
       "      <td>Algeria</td>\n",
       "      <td>1952</td>\n",
       "      <td>43.50</td>\n",
       "      <td>7.65</td>\n",
       "      <td>9216395.0</td>\n",
       "    </tr>\n",
       "    <tr>\n",
       "      <th>3</th>\n",
       "      <td>Africa</td>\n",
       "      <td>Algeria</td>\n",
       "      <td>1953</td>\n",
       "      <td>43.96</td>\n",
       "      <td>7.65</td>\n",
       "      <td>9405445.0</td>\n",
       "    </tr>\n",
       "    <tr>\n",
       "      <th>4</th>\n",
       "      <td>Africa</td>\n",
       "      <td>Algeria</td>\n",
       "      <td>1954</td>\n",
       "      <td>44.44</td>\n",
       "      <td>7.65</td>\n",
       "      <td>9609507.0</td>\n",
       "    </tr>\n",
       "  </tbody>\n",
       "</table>\n",
       "</div>"
      ],
      "text/plain": [
       "  continent  country  year  life expectancy  fertility  population\n",
       "0    Africa  Algeria  1950            42.77       7.65   8872247.0\n",
       "1    Africa  Algeria  1951            43.03       7.65   9039913.0\n",
       "2    Africa  Algeria  1952            43.50       7.65   9216395.0\n",
       "3    Africa  Algeria  1953            43.96       7.65   9405445.0\n",
       "4    Africa  Algeria  1954            44.44       7.65   9609507.0"
      ]
     },
     "execution_count": 140,
     "metadata": {},
     "output_type": "execute_result"
    }
   ],
   "source": [
    "df.head()"
   ]
  },
  {
   "cell_type": "code",
   "execution_count": 5,
   "id": "a352fbe5",
   "metadata": {},
   "outputs": [
    {
     "data": {
      "text/plain": [
       "5190648.5"
      ]
     },
     "execution_count": 5,
     "metadata": {},
     "output_type": "execute_result"
    }
   ],
   "source": [
    "# 2\n",
    "df[\"population\"].median()"
   ]
  },
  {
   "cell_type": "code",
   "execution_count": 6,
   "id": "57387a6c",
   "metadata": {},
   "outputs": [
    {
     "data": {
      "text/plain": [
       "Africa                   3234\n",
       "Europe                   2640\n",
       "Asia                     2574\n",
       "North America            1254\n",
       "South America             792\n",
       "Australia and Oceania     594\n",
       "Name: continent, dtype: int64"
      ]
     },
     "execution_count": 6,
     "metadata": {},
     "output_type": "execute_result"
    }
   ],
   "source": [
    "# 3\n",
    "df[\"continent\"].value_counts()"
   ]
  },
  {
   "cell_type": "code",
   "execution_count": 7,
   "id": "5fd0bdb2",
   "metadata": {},
   "outputs": [
    {
     "data": {
      "text/plain": [
       "1.13"
      ]
     },
     "execution_count": 7,
     "metadata": {},
     "output_type": "execute_result"
    }
   ],
   "source": [
    "# 3\n",
    "df[\"fertility\"].min()"
   ]
  },
  {
   "cell_type": "code",
   "execution_count": 8,
   "id": "463fdccc",
   "metadata": {},
   "outputs": [
    {
     "data": {
      "text/html": [
       "<div>\n",
       "<style scoped>\n",
       "    .dataframe tbody tr th:only-of-type {\n",
       "        vertical-align: middle;\n",
       "    }\n",
       "\n",
       "    .dataframe tbody tr th {\n",
       "        vertical-align: top;\n",
       "    }\n",
       "\n",
       "    .dataframe thead th {\n",
       "        text-align: right;\n",
       "    }\n",
       "</style>\n",
       "<table border=\"1\" class=\"dataframe\">\n",
       "  <thead>\n",
       "    <tr style=\"text-align: right;\">\n",
       "      <th></th>\n",
       "      <th>continent</th>\n",
       "      <th>country</th>\n",
       "      <th>year</th>\n",
       "      <th>life expectancy</th>\n",
       "      <th>fertility</th>\n",
       "      <th>population</th>\n",
       "    </tr>\n",
       "  </thead>\n",
       "  <tbody>\n",
       "    <tr>\n",
       "      <th>6518</th>\n",
       "      <td>Europe</td>\n",
       "      <td>Czech Republic</td>\n",
       "      <td>2000</td>\n",
       "      <td>75.0</td>\n",
       "      <td>1.13</td>\n",
       "      <td>10263010.0</td>\n",
       "    </tr>\n",
       "  </tbody>\n",
       "</table>\n",
       "</div>"
      ],
      "text/plain": [
       "     continent         country  year  life expectancy  fertility  population\n",
       "6518    Europe  Czech Republic  2000             75.0       1.13  10263010.0"
      ]
     },
     "execution_count": 8,
     "metadata": {},
     "output_type": "execute_result"
    }
   ],
   "source": [
    "df_f = df[df[\"fertility\"] ==df[\"fertility\"].min()]\n",
    "df_f"
   ]
  },
  {
   "cell_type": "code",
   "execution_count": 9,
   "id": "9462bc98",
   "metadata": {},
   "outputs": [
    {
     "data": {
      "text/plain": [
       "continent\n",
       "Africa                   5.931345\n",
       "Asia                     4.673862\n",
       "Australia and Oceania    4.682172\n",
       "Europe                   2.169754\n",
       "North America            4.002329\n",
       "South America            4.077235\n",
       "Name: fertility, dtype: float64"
      ]
     },
     "execution_count": 9,
     "metadata": {},
     "output_type": "execute_result"
    }
   ],
   "source": [
    "df.groupby(\"continent\")[\"fertility\"].mean()"
   ]
  },
  {
   "cell_type": "code",
   "execution_count": 10,
   "id": "4f7ec1d6",
   "metadata": {},
   "outputs": [],
   "source": [
    "# 5\n",
    "e_2015 = df[(df[\"continent\"] == \"Europe\") & (df[\"year\"] == 2015)][\"life expectancy\"].mean()"
   ]
  },
  {
   "cell_type": "code",
   "execution_count": 11,
   "id": "9cd5a889",
   "metadata": {},
   "outputs": [
    {
     "data": {
      "text/plain": [
       "78.75499999999998"
      ]
     },
     "execution_count": 11,
     "metadata": {},
     "output_type": "execute_result"
    }
   ],
   "source": [
    "e_2015"
   ]
  },
  {
   "cell_type": "code",
   "execution_count": 12,
   "id": "04f74270",
   "metadata": {},
   "outputs": [],
   "source": [
    "df_2015 = df[df[\"year\"]== 2015]"
   ]
  },
  {
   "cell_type": "code",
   "execution_count": 24,
   "id": "6de785fc",
   "metadata": {},
   "outputs": [
    {
     "data": {
      "text/plain": [
       "continent\n",
       "Africa                   63.410204\n",
       "Asia                     73.933333\n",
       "Australia and Oceania    69.666667\n",
       "Europe                   78.755000\n",
       "North America            75.152632\n",
       "South America            75.141667\n",
       "Name: life expectancy, dtype: float64"
      ]
     },
     "execution_count": 24,
     "metadata": {},
     "output_type": "execute_result"
    }
   ],
   "source": [
    "df_2015.groupby(\"continent\")[\"life expectancy\"].mean()"
   ]
  },
  {
   "cell_type": "code",
   "execution_count": 16,
   "id": "0df1a5ab",
   "metadata": {},
   "outputs": [
    {
     "data": {
      "text/plain": [
       "continent\n",
       "Africa                   3234\n",
       "Asia                     2574\n",
       "Australia and Oceania     594\n",
       "Europe                   2640\n",
       "North America            1254\n",
       "South America             792\n",
       "Name: country, dtype: int64"
      ]
     },
     "execution_count": 16,
     "metadata": {},
     "output_type": "execute_result"
    }
   ],
   "source": [
    "# 6\n",
    "df.groupby(\"continent\")[\"country\"].count()"
   ]
  },
  {
   "cell_type": "code",
   "execution_count": 55,
   "id": "40ca21de",
   "metadata": {},
   "outputs": [],
   "source": [
    "df_y = df[df[\"year\"]== 1995]"
   ]
  },
  {
   "cell_type": "code",
   "execution_count": 56,
   "id": "701f76a0",
   "metadata": {},
   "outputs": [
    {
     "data": {
      "text/plain": [
       "continent\n",
       "Africa                   49\n",
       "Asia                     39\n",
       "Australia and Oceania     9\n",
       "Europe                   40\n",
       "North America            19\n",
       "South America            12\n",
       "Name: country, dtype: int64"
      ]
     },
     "execution_count": 56,
     "metadata": {},
     "output_type": "execute_result"
    }
   ],
   "source": [
    "df_y.groupby(\"continent\")[\"country\"].count()"
   ]
  },
  {
   "cell_type": "code",
   "execution_count": 19,
   "id": "91a49f18",
   "metadata": {},
   "outputs": [],
   "source": [
    "# 7\n",
    "df_1976 = df[df[\"year\"]== 1976]"
   ]
  },
  {
   "cell_type": "code",
   "execution_count": 40,
   "id": "518d01f1",
   "metadata": {},
   "outputs": [],
   "source": [
    "df_1 = df_1976.groupby(\"continent\")[\"population\"].mean().round()"
   ]
  },
  {
   "cell_type": "code",
   "execution_count": 70,
   "id": "23319195",
   "metadata": {},
   "outputs": [
    {
     "data": {
      "text/plain": [
       "continent\n",
       "Africa                    7850933.0\n",
       "Asia                     60323406.0\n",
       "Australia and Oceania     2360114.0\n",
       "Europe                   13840494.0\n",
       "North America            18505322.0\n",
       "South America            18496211.0\n",
       "Name: population, dtype: float64"
      ]
     },
     "execution_count": 70,
     "metadata": {},
     "output_type": "execute_result"
    }
   ],
   "source": [
    "# df_1.astype(int) \n",
    "df_1"
   ]
  },
  {
   "cell_type": "code",
   "execution_count": 47,
   "id": "bd837332",
   "metadata": {},
   "outputs": [],
   "source": [
    "df_2 = df_2015.groupby(\"continent\")[\"population\"].mean().round()"
   ]
  },
  {
   "cell_type": "code",
   "execution_count": 48,
   "id": "5dfcce3c",
   "metadata": {},
   "outputs": [
    {
     "data": {
      "text/plain": [
       "continent\n",
       "Africa                    21417684.0\n",
       "Asia                     109528467.0\n",
       "Australia and Oceania      4252114.0\n",
       "Europe                    15122676.0\n",
       "North America             29900366.0\n",
       "South America             34847974.0\n",
       "Name: population, dtype: float64"
      ]
     },
     "execution_count": 48,
     "metadata": {},
     "output_type": "execute_result"
    }
   ],
   "source": [
    "df_2"
   ]
  },
  {
   "cell_type": "code",
   "execution_count": null,
   "id": "7a1a4e28",
   "metadata": {},
   "outputs": [],
   "source": []
  },
  {
   "cell_type": "code",
   "execution_count": 79,
   "id": "6c32d66c",
   "metadata": {},
   "outputs": [],
   "source": [
    "# 8\n",
    "df_3= df.groupby([\"continent\"])[\"population\"].max().round()"
   ]
  },
  {
   "cell_type": "code",
   "execution_count": 80,
   "id": "4b16b1c9",
   "metadata": {},
   "outputs": [
    {
     "data": {
      "text/plain": [
       "continent\n",
       "Africa                    182201962\n",
       "Asia                     1376048943\n",
       "Australia and Oceania      23968973\n",
       "Europe                     82010184\n",
       "North America             321773631\n",
       "South America             207847528\n",
       "Name: population, dtype: int32"
      ]
     },
     "execution_count": 80,
     "metadata": {},
     "output_type": "execute_result"
    }
   ],
   "source": [
    "df_3.astype(int)"
   ]
  },
  {
   "cell_type": "code",
   "execution_count": 126,
   "id": "91ff8e9c",
   "metadata": {},
   "outputs": [],
   "source": [
    "# 9\n",
    "pop_max = df.groupby([\"continent\", \"year\"])[\"population\"].sum().max()"
   ]
  },
  {
   "cell_type": "code",
   "execution_count": 127,
   "id": "d3199405",
   "metadata": {},
   "outputs": [
    {
     "data": {
      "text/plain": [
       "continent  year\n",
       "Asia       2015    4.271610e+09\n",
       "Name: population, dtype: float64"
      ]
     },
     "execution_count": 127,
     "metadata": {},
     "output_type": "execute_result"
    }
   ],
   "source": [
    "\n",
    "df.groupby(['continent','year'])['population'].sum()[df.groupby(['continent','year'])['population'].sum()==pop_max]"
   ]
  },
  {
   "cell_type": "code",
   "execution_count": 139,
   "id": "005db6be",
   "metadata": {
    "scrolled": true
   },
   "outputs": [
    {
     "data": {
      "text/html": [
       "<div>\n",
       "<style scoped>\n",
       "    .dataframe tbody tr th:only-of-type {\n",
       "        vertical-align: middle;\n",
       "    }\n",
       "\n",
       "    .dataframe tbody tr th {\n",
       "        vertical-align: top;\n",
       "    }\n",
       "\n",
       "    .dataframe thead th {\n",
       "        text-align: right;\n",
       "    }\n",
       "</style>\n",
       "<table border=\"1\" class=\"dataframe\">\n",
       "  <thead>\n",
       "    <tr style=\"text-align: right;\">\n",
       "      <th></th>\n",
       "      <th></th>\n",
       "      <th>population</th>\n",
       "    </tr>\n",
       "    <tr>\n",
       "      <th>continent</th>\n",
       "      <th>year</th>\n",
       "      <th></th>\n",
       "    </tr>\n",
       "  </thead>\n",
       "  <tbody>\n",
       "    <tr>\n",
       "      <th rowspan=\"5\" valign=\"top\">Africa</th>\n",
       "      <th>1950</th>\n",
       "      <td>206130829.0</td>\n",
       "    </tr>\n",
       "    <tr>\n",
       "      <th>1951</th>\n",
       "      <td>210281902.0</td>\n",
       "    </tr>\n",
       "    <tr>\n",
       "      <th>1952</th>\n",
       "      <td>214650546.0</td>\n",
       "    </tr>\n",
       "    <tr>\n",
       "      <th>1953</th>\n",
       "      <td>219228593.0</td>\n",
       "    </tr>\n",
       "    <tr>\n",
       "      <th>1954</th>\n",
       "      <td>224010333.0</td>\n",
       "    </tr>\n",
       "    <tr>\n",
       "      <th>...</th>\n",
       "      <th>...</th>\n",
       "      <td>...</td>\n",
       "    </tr>\n",
       "    <tr>\n",
       "      <th rowspan=\"5\" valign=\"top\">South America</th>\n",
       "      <th>2011</th>\n",
       "      <td>401182686.0</td>\n",
       "    </tr>\n",
       "    <tr>\n",
       "      <th>2012</th>\n",
       "      <td>405500384.0</td>\n",
       "    </tr>\n",
       "    <tr>\n",
       "      <th>2013</th>\n",
       "      <td>409786747.0</td>\n",
       "    </tr>\n",
       "    <tr>\n",
       "      <th>2014</th>\n",
       "      <td>414017917.0</td>\n",
       "    </tr>\n",
       "    <tr>\n",
       "      <th>2015</th>\n",
       "      <td>418175687.0</td>\n",
       "    </tr>\n",
       "  </tbody>\n",
       "</table>\n",
       "<p>396 rows × 1 columns</p>\n",
       "</div>"
      ],
      "text/plain": [
       "                     population\n",
       "continent     year             \n",
       "Africa        1950  206130829.0\n",
       "              1951  210281902.0\n",
       "              1952  214650546.0\n",
       "              1953  219228593.0\n",
       "              1954  224010333.0\n",
       "...                         ...\n",
       "South America 2011  401182686.0\n",
       "              2012  405500384.0\n",
       "              2013  409786747.0\n",
       "              2014  414017917.0\n",
       "              2015  418175687.0\n",
       "\n",
       "[396 rows x 1 columns]"
      ]
     },
     "execution_count": 139,
     "metadata": {},
     "output_type": "execute_result"
    }
   ],
   "source": [
    "\n",
    "df_u = df.groupby([\"continent\", \"year\"]).agg({\"population\": \"sum\"})\n",
    "df_u"
   ]
  },
  {
   "cell_type": "code",
   "execution_count": 137,
   "id": "2dfb0869",
   "metadata": {},
   "outputs": [
    {
     "data": {
      "text/html": [
       "<div>\n",
       "<style scoped>\n",
       "    .dataframe tbody tr th:only-of-type {\n",
       "        vertical-align: middle;\n",
       "    }\n",
       "\n",
       "    .dataframe tbody tr th {\n",
       "        vertical-align: top;\n",
       "    }\n",
       "\n",
       "    .dataframe thead th {\n",
       "        text-align: right;\n",
       "    }\n",
       "</style>\n",
       "<table border=\"1\" class=\"dataframe\">\n",
       "  <thead>\n",
       "    <tr style=\"text-align: right;\">\n",
       "      <th></th>\n",
       "      <th></th>\n",
       "      <th>population</th>\n",
       "    </tr>\n",
       "    <tr>\n",
       "      <th>continent</th>\n",
       "      <th>year</th>\n",
       "      <th></th>\n",
       "    </tr>\n",
       "  </thead>\n",
       "  <tbody>\n",
       "    <tr>\n",
       "      <th>Asia</th>\n",
       "      <th>2015</th>\n",
       "      <td>4.271610e+09</td>\n",
       "    </tr>\n",
       "  </tbody>\n",
       "</table>\n",
       "</div>"
      ],
      "text/plain": [
       "                  population\n",
       "continent year              \n",
       "Asia      2015  4.271610e+09"
      ]
     },
     "execution_count": 137,
     "metadata": {},
     "output_type": "execute_result"
    }
   ],
   "source": [
    "df_u[df_u['population'] == df_u['population'].max()]"
   ]
  },
  {
   "cell_type": "code",
   "execution_count": 145,
   "id": "cd5de904",
   "metadata": {},
   "outputs": [
    {
     "data": {
      "text/plain": [
       "<AxesSubplot:xlabel='continent'>"
      ]
     },
     "execution_count": 145,
     "metadata": {},
     "output_type": "execute_result"
    },
    {
     "data": {
      "image/png": "[encoded data removed]",
      "text/plain": [
       "<Figure size 432x288 with 1 Axes>"
      ]
     },
     "metadata": {
      "needs_background": "light"
     },
     "output_type": "display_data"
    }
   ],
   "source": [
    "# 10 Plot a bar plot comparison of life_expectancy, fertility, population average per continent\n",
    "# Hint: for a quick and dirty graph use Pandas ploting ability\n",
    "# Hint: use log=True to make the visual more friendly to the eyes\n",
    "\n",
    "df.groupby([\"continent\"]).agg({\"population\":\"mean\", \"fertility\":\"mean\", \"life expectancy\":\"mean\"}).plot(kind=\"bar\", log = True)\n"
   ]
  },
  {
   "cell_type": "code",
   "execution_count": null,
   "id": "36cad89b",
   "metadata": {},
   "outputs": [],
   "source": []
  }
 ],
 "metadata": {
  "kernelspec": {
   "display_name": "Python 3 (ipykernel)",
   "language": "python",
   "name": "python3"
  },
  "language_info": {
   "codemirror_mode": {
    "name": "ipython",
    "version": 3
   },
   "file_extension": ".py",
   "mimetype": "text/x-python",
   "name": "python",
   "nbconvert_exporter": "python",
   "pygments_lexer": "ipython3",
   "version": "3.9.12"
  }
 },
 "nbformat": 4,
 "nbformat_minor": 5
}
