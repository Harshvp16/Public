{
 "cells": [
  {
   "cell_type": "code",
   "execution_count": 1,
   "id": "bb34f79f",
   "metadata": {},
   "outputs": [],
   "source": [
    "import pandas as pd\n",
    "import numpy as np\n",
    "import matplotlib.pyplot as plt"
   ]
  },
  {
   "cell_type": "code",
   "execution_count": 2,
   "id": "1dd07e40",
   "metadata": {},
   "outputs": [],
   "source": [
    "pop = pd.read_csv(\"../data/population.csv\")"
   ]
  },
  {
   "cell_type": "code",
   "execution_count": 3,
   "id": "2f7214eb",
   "metadata": {},
   "outputs": [
    {
     "data": {
      "text/html": [
       "<div>\n",
       "<style scoped>\n",
       "    .dataframe tbody tr th:only-of-type {\n",
       "        vertical-align: middle;\n",
       "    }\n",
       "\n",
       "    .dataframe tbody tr th {\n",
       "        vertical-align: top;\n",
       "    }\n",
       "\n",
       "    .dataframe thead th {\n",
       "        text-align: right;\n",
       "    }\n",
       "</style>\n",
       "<table border=\"1\" class=\"dataframe\">\n",
       "  <thead>\n",
       "    <tr style=\"text-align: right;\">\n",
       "      <th></th>\n",
       "      <th>Total population</th>\n",
       "      <th>year</th>\n",
       "      <th>population</th>\n",
       "    </tr>\n",
       "  </thead>\n",
       "  <tbody>\n",
       "    <tr>\n",
       "      <th>0</th>\n",
       "      <td>Abkhazia</td>\n",
       "      <td>1800</td>\n",
       "      <td>NaN</td>\n",
       "    </tr>\n",
       "    <tr>\n",
       "      <th>1</th>\n",
       "      <td>Afghanistan</td>\n",
       "      <td>1800</td>\n",
       "      <td>3280000.0</td>\n",
       "    </tr>\n",
       "    <tr>\n",
       "      <th>2</th>\n",
       "      <td>Akrotiri and Dhekelia</td>\n",
       "      <td>1800</td>\n",
       "      <td>NaN</td>\n",
       "    </tr>\n",
       "    <tr>\n",
       "      <th>3</th>\n",
       "      <td>Albania</td>\n",
       "      <td>1800</td>\n",
       "      <td>410445.0</td>\n",
       "    </tr>\n",
       "    <tr>\n",
       "      <th>4</th>\n",
       "      <td>Algeria</td>\n",
       "      <td>1800</td>\n",
       "      <td>2503218.0</td>\n",
       "    </tr>\n",
       "    <tr>\n",
       "      <th>...</th>\n",
       "      <td>...</td>\n",
       "      <td>...</td>\n",
       "      <td>...</td>\n",
       "    </tr>\n",
       "    <tr>\n",
       "      <th>22270</th>\n",
       "      <td>Northern Marianas</td>\n",
       "      <td>2015</td>\n",
       "      <td>NaN</td>\n",
       "    </tr>\n",
       "    <tr>\n",
       "      <th>22271</th>\n",
       "      <td>South Georgia and the South Sandwich Islands</td>\n",
       "      <td>2015</td>\n",
       "      <td>NaN</td>\n",
       "    </tr>\n",
       "    <tr>\n",
       "      <th>22272</th>\n",
       "      <td>US Minor Outlying Islands</td>\n",
       "      <td>2015</td>\n",
       "      <td>NaN</td>\n",
       "    </tr>\n",
       "    <tr>\n",
       "      <th>22273</th>\n",
       "      <td>Virgin Islands</td>\n",
       "      <td>2015</td>\n",
       "      <td>NaN</td>\n",
       "    </tr>\n",
       "    <tr>\n",
       "      <th>22274</th>\n",
       "      <td>West Bank</td>\n",
       "      <td>2015</td>\n",
       "      <td>NaN</td>\n",
       "    </tr>\n",
       "  </tbody>\n",
       "</table>\n",
       "<p>22275 rows × 3 columns</p>\n",
       "</div>"
      ],
      "text/plain": [
       "                                   Total population  year  population\n",
       "0                                          Abkhazia  1800         NaN\n",
       "1                                       Afghanistan  1800   3280000.0\n",
       "2                             Akrotiri and Dhekelia  1800         NaN\n",
       "3                                           Albania  1800    410445.0\n",
       "4                                           Algeria  1800   2503218.0\n",
       "...                                             ...   ...         ...\n",
       "22270                             Northern Marianas  2015         NaN\n",
       "22271  South Georgia and the South Sandwich Islands  2015         NaN\n",
       "22272                     US Minor Outlying Islands  2015         NaN\n",
       "22273                                Virgin Islands  2015         NaN\n",
       "22274                                     West Bank  2015         NaN\n",
       "\n",
       "[22275 rows x 3 columns]"
      ]
     },
     "execution_count": 3,
     "metadata": {},
     "output_type": "execute_result"
    }
   ],
   "source": [
    "pop"
   ]
  },
  {
   "cell_type": "code",
   "execution_count": 4,
   "id": "49131e5a",
   "metadata": {},
   "outputs": [],
   "source": [
    "pop.columns = [\"country\",\"year\",\"population\"]"
   ]
  },
  {
   "cell_type": "code",
   "execution_count": 5,
   "id": "eff9b924",
   "metadata": {},
   "outputs": [
    {
     "data": {
      "text/html": [
       "<div>\n",
       "<style scoped>\n",
       "    .dataframe tbody tr th:only-of-type {\n",
       "        vertical-align: middle;\n",
       "    }\n",
       "\n",
       "    .dataframe tbody tr th {\n",
       "        vertical-align: top;\n",
       "    }\n",
       "\n",
       "    .dataframe thead th {\n",
       "        text-align: right;\n",
       "    }\n",
       "</style>\n",
       "<table border=\"1\" class=\"dataframe\">\n",
       "  <thead>\n",
       "    <tr style=\"text-align: right;\">\n",
       "      <th></th>\n",
       "      <th>country</th>\n",
       "      <th>year</th>\n",
       "      <th>population</th>\n",
       "    </tr>\n",
       "  </thead>\n",
       "  <tbody>\n",
       "    <tr>\n",
       "      <th>0</th>\n",
       "      <td>Abkhazia</td>\n",
       "      <td>1800</td>\n",
       "      <td>NaN</td>\n",
       "    </tr>\n",
       "    <tr>\n",
       "      <th>1</th>\n",
       "      <td>Afghanistan</td>\n",
       "      <td>1800</td>\n",
       "      <td>3280000.0</td>\n",
       "    </tr>\n",
       "    <tr>\n",
       "      <th>2</th>\n",
       "      <td>Akrotiri and Dhekelia</td>\n",
       "      <td>1800</td>\n",
       "      <td>NaN</td>\n",
       "    </tr>\n",
       "    <tr>\n",
       "      <th>3</th>\n",
       "      <td>Albania</td>\n",
       "      <td>1800</td>\n",
       "      <td>410445.0</td>\n",
       "    </tr>\n",
       "    <tr>\n",
       "      <th>4</th>\n",
       "      <td>Algeria</td>\n",
       "      <td>1800</td>\n",
       "      <td>2503218.0</td>\n",
       "    </tr>\n",
       "  </tbody>\n",
       "</table>\n",
       "</div>"
      ],
      "text/plain": [
       "                 country  year  population\n",
       "0               Abkhazia  1800         NaN\n",
       "1            Afghanistan  1800   3280000.0\n",
       "2  Akrotiri and Dhekelia  1800         NaN\n",
       "3                Albania  1800    410445.0\n",
       "4                Algeria  1800   2503218.0"
      ]
     },
     "execution_count": 5,
     "metadata": {},
     "output_type": "execute_result"
    }
   ],
   "source": [
    "pop.head()"
   ]
  },
  {
   "cell_type": "code",
   "execution_count": 6,
   "id": "d5f580d3",
   "metadata": {},
   "outputs": [
    {
     "name": "stdout",
     "output_type": "stream",
     "text": [
      "<class 'pandas.core.frame.DataFrame'>\n",
      "RangeIndex: 22275 entries, 0 to 22274\n",
      "Data columns (total 3 columns):\n",
      " #   Column      Non-Null Count  Dtype  \n",
      "---  ------      --------------  -----  \n",
      " 0   country     22275 non-null  object \n",
      " 1   year        22275 non-null  int64  \n",
      " 2   population  20176 non-null  float64\n",
      "dtypes: float64(1), int64(1), object(1)\n",
      "memory usage: 522.2+ KB\n"
     ]
    }
   ],
   "source": [
    "pop.info()"
   ]
  },
  {
   "cell_type": "code",
   "execution_count": 7,
   "id": "9b7f322f",
   "metadata": {},
   "outputs": [
    {
     "data": {
      "text/plain": [
       "country          0\n",
       "year             0\n",
       "population    2099\n",
       "dtype: int64"
      ]
     },
     "execution_count": 7,
     "metadata": {},
     "output_type": "execute_result"
    }
   ],
   "source": [
    "pop.isnull().sum()"
   ]
  },
  {
   "cell_type": "code",
   "execution_count": 8,
   "id": "372f8e2b",
   "metadata": {},
   "outputs": [],
   "source": [
    "pop = pop.dropna(axis =\"rows\")"
   ]
  },
  {
   "cell_type": "code",
   "execution_count": 9,
   "id": "717b8920",
   "metadata": {},
   "outputs": [
    {
     "data": {
      "text/html": [
       "<div>\n",
       "<style scoped>\n",
       "    .dataframe tbody tr th:only-of-type {\n",
       "        vertical-align: middle;\n",
       "    }\n",
       "\n",
       "    .dataframe tbody tr th {\n",
       "        vertical-align: top;\n",
       "    }\n",
       "\n",
       "    .dataframe thead th {\n",
       "        text-align: right;\n",
       "    }\n",
       "</style>\n",
       "<table border=\"1\" class=\"dataframe\">\n",
       "  <thead>\n",
       "    <tr style=\"text-align: right;\">\n",
       "      <th></th>\n",
       "      <th>country</th>\n",
       "      <th>year</th>\n",
       "      <th>population</th>\n",
       "    </tr>\n",
       "  </thead>\n",
       "  <tbody>\n",
       "    <tr>\n",
       "      <th>1</th>\n",
       "      <td>Afghanistan</td>\n",
       "      <td>1800</td>\n",
       "      <td>3280000.0</td>\n",
       "    </tr>\n",
       "    <tr>\n",
       "      <th>3</th>\n",
       "      <td>Albania</td>\n",
       "      <td>1800</td>\n",
       "      <td>410445.0</td>\n",
       "    </tr>\n",
       "    <tr>\n",
       "      <th>4</th>\n",
       "      <td>Algeria</td>\n",
       "      <td>1800</td>\n",
       "      <td>2503218.0</td>\n",
       "    </tr>\n",
       "    <tr>\n",
       "      <th>5</th>\n",
       "      <td>American Samoa</td>\n",
       "      <td>1800</td>\n",
       "      <td>8170.0</td>\n",
       "    </tr>\n",
       "    <tr>\n",
       "      <th>6</th>\n",
       "      <td>Andorra</td>\n",
       "      <td>1800</td>\n",
       "      <td>2654.0</td>\n",
       "    </tr>\n",
       "    <tr>\n",
       "      <th>...</th>\n",
       "      <td>...</td>\n",
       "      <td>...</td>\n",
       "      <td>...</td>\n",
       "    </tr>\n",
       "    <tr>\n",
       "      <th>22256</th>\n",
       "      <td>Zambia</td>\n",
       "      <td>2015</td>\n",
       "      <td>16211767.0</td>\n",
       "    </tr>\n",
       "    <tr>\n",
       "      <th>22257</th>\n",
       "      <td>Zimbabwe</td>\n",
       "      <td>2015</td>\n",
       "      <td>15602751.0</td>\n",
       "    </tr>\n",
       "    <tr>\n",
       "      <th>22259</th>\n",
       "      <td>South Sudan</td>\n",
       "      <td>2015</td>\n",
       "      <td>12339812.0</td>\n",
       "    </tr>\n",
       "    <tr>\n",
       "      <th>22260</th>\n",
       "      <td>Curaçao</td>\n",
       "      <td>2015</td>\n",
       "      <td>157203.0</td>\n",
       "    </tr>\n",
       "    <tr>\n",
       "      <th>22261</th>\n",
       "      <td>Sint Maarten (Dutch part)</td>\n",
       "      <td>2015</td>\n",
       "      <td>38745.0</td>\n",
       "    </tr>\n",
       "  </tbody>\n",
       "</table>\n",
       "<p>20176 rows × 3 columns</p>\n",
       "</div>"
      ],
      "text/plain": [
       "                         country  year  population\n",
       "1                    Afghanistan  1800   3280000.0\n",
       "3                        Albania  1800    410445.0\n",
       "4                        Algeria  1800   2503218.0\n",
       "5                 American Samoa  1800      8170.0\n",
       "6                        Andorra  1800      2654.0\n",
       "...                          ...   ...         ...\n",
       "22256                     Zambia  2015  16211767.0\n",
       "22257                   Zimbabwe  2015  15602751.0\n",
       "22259                South Sudan  2015  12339812.0\n",
       "22260                    Curaçao  2015    157203.0\n",
       "22261  Sint Maarten (Dutch part)  2015     38745.0\n",
       "\n",
       "[20176 rows x 3 columns]"
      ]
     },
     "execution_count": 9,
     "metadata": {},
     "output_type": "execute_result"
    }
   ],
   "source": [
    "pop"
   ]
  },
  {
   "cell_type": "code",
   "execution_count": 10,
   "id": "f84098bd",
   "metadata": {},
   "outputs": [],
   "source": [
    "pop.reset_index(drop = True ,inplace = True)"
   ]
  },
  {
   "cell_type": "code",
   "execution_count": 11,
   "id": "0f293ecf",
   "metadata": {},
   "outputs": [
    {
     "data": {
      "text/html": [
       "<div>\n",
       "<style scoped>\n",
       "    .dataframe tbody tr th:only-of-type {\n",
       "        vertical-align: middle;\n",
       "    }\n",
       "\n",
       "    .dataframe tbody tr th {\n",
       "        vertical-align: top;\n",
       "    }\n",
       "\n",
       "    .dataframe thead th {\n",
       "        text-align: right;\n",
       "    }\n",
       "</style>\n",
       "<table border=\"1\" class=\"dataframe\">\n",
       "  <thead>\n",
       "    <tr style=\"text-align: right;\">\n",
       "      <th></th>\n",
       "      <th>country</th>\n",
       "      <th>year</th>\n",
       "      <th>population</th>\n",
       "    </tr>\n",
       "  </thead>\n",
       "  <tbody>\n",
       "    <tr>\n",
       "      <th>0</th>\n",
       "      <td>Afghanistan</td>\n",
       "      <td>1800</td>\n",
       "      <td>3280000.0</td>\n",
       "    </tr>\n",
       "    <tr>\n",
       "      <th>1</th>\n",
       "      <td>Albania</td>\n",
       "      <td>1800</td>\n",
       "      <td>410445.0</td>\n",
       "    </tr>\n",
       "    <tr>\n",
       "      <th>2</th>\n",
       "      <td>Algeria</td>\n",
       "      <td>1800</td>\n",
       "      <td>2503218.0</td>\n",
       "    </tr>\n",
       "    <tr>\n",
       "      <th>3</th>\n",
       "      <td>American Samoa</td>\n",
       "      <td>1800</td>\n",
       "      <td>8170.0</td>\n",
       "    </tr>\n",
       "    <tr>\n",
       "      <th>4</th>\n",
       "      <td>Andorra</td>\n",
       "      <td>1800</td>\n",
       "      <td>2654.0</td>\n",
       "    </tr>\n",
       "    <tr>\n",
       "      <th>...</th>\n",
       "      <td>...</td>\n",
       "      <td>...</td>\n",
       "      <td>...</td>\n",
       "    </tr>\n",
       "    <tr>\n",
       "      <th>20171</th>\n",
       "      <td>Zambia</td>\n",
       "      <td>2015</td>\n",
       "      <td>16211767.0</td>\n",
       "    </tr>\n",
       "    <tr>\n",
       "      <th>20172</th>\n",
       "      <td>Zimbabwe</td>\n",
       "      <td>2015</td>\n",
       "      <td>15602751.0</td>\n",
       "    </tr>\n",
       "    <tr>\n",
       "      <th>20173</th>\n",
       "      <td>South Sudan</td>\n",
       "      <td>2015</td>\n",
       "      <td>12339812.0</td>\n",
       "    </tr>\n",
       "    <tr>\n",
       "      <th>20174</th>\n",
       "      <td>Curaçao</td>\n",
       "      <td>2015</td>\n",
       "      <td>157203.0</td>\n",
       "    </tr>\n",
       "    <tr>\n",
       "      <th>20175</th>\n",
       "      <td>Sint Maarten (Dutch part)</td>\n",
       "      <td>2015</td>\n",
       "      <td>38745.0</td>\n",
       "    </tr>\n",
       "  </tbody>\n",
       "</table>\n",
       "<p>20176 rows × 3 columns</p>\n",
       "</div>"
      ],
      "text/plain": [
       "                         country  year  population\n",
       "0                    Afghanistan  1800   3280000.0\n",
       "1                        Albania  1800    410445.0\n",
       "2                        Algeria  1800   2503218.0\n",
       "3                 American Samoa  1800      8170.0\n",
       "4                        Andorra  1800      2654.0\n",
       "...                          ...   ...         ...\n",
       "20171                     Zambia  2015  16211767.0\n",
       "20172                   Zimbabwe  2015  15602751.0\n",
       "20173                South Sudan  2015  12339812.0\n",
       "20174                    Curaçao  2015    157203.0\n",
       "20175  Sint Maarten (Dutch part)  2015     38745.0\n",
       "\n",
       "[20176 rows x 3 columns]"
      ]
     },
     "execution_count": 11,
     "metadata": {},
     "output_type": "execute_result"
    }
   ],
   "source": [
    "pop"
   ]
  },
  {
   "cell_type": "code",
   "execution_count": 12,
   "id": "956e0490",
   "metadata": {},
   "outputs": [],
   "source": [
    "pop_1950 = pop[(pop[\"year\"]>=1950)]"
   ]
  },
  {
   "cell_type": "code",
   "execution_count": 13,
   "id": "094a3b1a",
   "metadata": {},
   "outputs": [
    {
     "data": {
      "text/html": [
       "<div>\n",
       "<style scoped>\n",
       "    .dataframe tbody tr th:only-of-type {\n",
       "        vertical-align: middle;\n",
       "    }\n",
       "\n",
       "    .dataframe tbody tr th {\n",
       "        vertical-align: top;\n",
       "    }\n",
       "\n",
       "    .dataframe thead th {\n",
       "        text-align: right;\n",
       "    }\n",
       "</style>\n",
       "<table border=\"1\" class=\"dataframe\">\n",
       "  <thead>\n",
       "    <tr style=\"text-align: right;\">\n",
       "      <th></th>\n",
       "      <th>country</th>\n",
       "      <th>year</th>\n",
       "      <th>population</th>\n",
       "    </tr>\n",
       "  </thead>\n",
       "  <tbody>\n",
       "    <tr>\n",
       "      <th>3435</th>\n",
       "      <td>Afghanistan</td>\n",
       "      <td>1950</td>\n",
       "      <td>7752118.0</td>\n",
       "    </tr>\n",
       "    <tr>\n",
       "      <th>3436</th>\n",
       "      <td>Akrotiri and Dhekelia</td>\n",
       "      <td>1950</td>\n",
       "      <td>10661.0</td>\n",
       "    </tr>\n",
       "    <tr>\n",
       "      <th>3437</th>\n",
       "      <td>Albania</td>\n",
       "      <td>1950</td>\n",
       "      <td>1263171.0</td>\n",
       "    </tr>\n",
       "    <tr>\n",
       "      <th>3438</th>\n",
       "      <td>Algeria</td>\n",
       "      <td>1950</td>\n",
       "      <td>8872247.0</td>\n",
       "    </tr>\n",
       "    <tr>\n",
       "      <th>3439</th>\n",
       "      <td>American Samoa</td>\n",
       "      <td>1950</td>\n",
       "      <td>18937.0</td>\n",
       "    </tr>\n",
       "    <tr>\n",
       "      <th>...</th>\n",
       "      <td>...</td>\n",
       "      <td>...</td>\n",
       "      <td>...</td>\n",
       "    </tr>\n",
       "    <tr>\n",
       "      <th>20171</th>\n",
       "      <td>Zambia</td>\n",
       "      <td>2015</td>\n",
       "      <td>16211767.0</td>\n",
       "    </tr>\n",
       "    <tr>\n",
       "      <th>20172</th>\n",
       "      <td>Zimbabwe</td>\n",
       "      <td>2015</td>\n",
       "      <td>15602751.0</td>\n",
       "    </tr>\n",
       "    <tr>\n",
       "      <th>20173</th>\n",
       "      <td>South Sudan</td>\n",
       "      <td>2015</td>\n",
       "      <td>12339812.0</td>\n",
       "    </tr>\n",
       "    <tr>\n",
       "      <th>20174</th>\n",
       "      <td>Curaçao</td>\n",
       "      <td>2015</td>\n",
       "      <td>157203.0</td>\n",
       "    </tr>\n",
       "    <tr>\n",
       "      <th>20175</th>\n",
       "      <td>Sint Maarten (Dutch part)</td>\n",
       "      <td>2015</td>\n",
       "      <td>38745.0</td>\n",
       "    </tr>\n",
       "  </tbody>\n",
       "</table>\n",
       "<p>16741 rows × 3 columns</p>\n",
       "</div>"
      ],
      "text/plain": [
       "                         country  year  population\n",
       "3435                 Afghanistan  1950   7752118.0\n",
       "3436       Akrotiri and Dhekelia  1950     10661.0\n",
       "3437                     Albania  1950   1263171.0\n",
       "3438                     Algeria  1950   8872247.0\n",
       "3439              American Samoa  1950     18937.0\n",
       "...                          ...   ...         ...\n",
       "20171                     Zambia  2015  16211767.0\n",
       "20172                   Zimbabwe  2015  15602751.0\n",
       "20173                South Sudan  2015  12339812.0\n",
       "20174                    Curaçao  2015    157203.0\n",
       "20175  Sint Maarten (Dutch part)  2015     38745.0\n",
       "\n",
       "[16741 rows x 3 columns]"
      ]
     },
     "execution_count": 13,
     "metadata": {},
     "output_type": "execute_result"
    }
   ],
   "source": [
    "pop_1950"
   ]
  },
  {
   "cell_type": "code",
   "execution_count": 14,
   "id": "e0d72825",
   "metadata": {},
   "outputs": [],
   "source": [
    "pop_1950.reset_index(drop = True ,inplace = True)"
   ]
  },
  {
   "cell_type": "code",
   "execution_count": 15,
   "id": "da8962cb",
   "metadata": {},
   "outputs": [
    {
     "data": {
      "text/html": [
       "<div>\n",
       "<style scoped>\n",
       "    .dataframe tbody tr th:only-of-type {\n",
       "        vertical-align: middle;\n",
       "    }\n",
       "\n",
       "    .dataframe tbody tr th {\n",
       "        vertical-align: top;\n",
       "    }\n",
       "\n",
       "    .dataframe thead th {\n",
       "        text-align: right;\n",
       "    }\n",
       "</style>\n",
       "<table border=\"1\" class=\"dataframe\">\n",
       "  <thead>\n",
       "    <tr style=\"text-align: right;\">\n",
       "      <th></th>\n",
       "      <th>country</th>\n",
       "      <th>year</th>\n",
       "      <th>population</th>\n",
       "    </tr>\n",
       "  </thead>\n",
       "  <tbody>\n",
       "    <tr>\n",
       "      <th>0</th>\n",
       "      <td>Afghanistan</td>\n",
       "      <td>1950</td>\n",
       "      <td>7752118.0</td>\n",
       "    </tr>\n",
       "    <tr>\n",
       "      <th>1</th>\n",
       "      <td>Akrotiri and Dhekelia</td>\n",
       "      <td>1950</td>\n",
       "      <td>10661.0</td>\n",
       "    </tr>\n",
       "    <tr>\n",
       "      <th>2</th>\n",
       "      <td>Albania</td>\n",
       "      <td>1950</td>\n",
       "      <td>1263171.0</td>\n",
       "    </tr>\n",
       "    <tr>\n",
       "      <th>3</th>\n",
       "      <td>Algeria</td>\n",
       "      <td>1950</td>\n",
       "      <td>8872247.0</td>\n",
       "    </tr>\n",
       "    <tr>\n",
       "      <th>4</th>\n",
       "      <td>American Samoa</td>\n",
       "      <td>1950</td>\n",
       "      <td>18937.0</td>\n",
       "    </tr>\n",
       "    <tr>\n",
       "      <th>...</th>\n",
       "      <td>...</td>\n",
       "      <td>...</td>\n",
       "      <td>...</td>\n",
       "    </tr>\n",
       "    <tr>\n",
       "      <th>16736</th>\n",
       "      <td>Zambia</td>\n",
       "      <td>2015</td>\n",
       "      <td>16211767.0</td>\n",
       "    </tr>\n",
       "    <tr>\n",
       "      <th>16737</th>\n",
       "      <td>Zimbabwe</td>\n",
       "      <td>2015</td>\n",
       "      <td>15602751.0</td>\n",
       "    </tr>\n",
       "    <tr>\n",
       "      <th>16738</th>\n",
       "      <td>South Sudan</td>\n",
       "      <td>2015</td>\n",
       "      <td>12339812.0</td>\n",
       "    </tr>\n",
       "    <tr>\n",
       "      <th>16739</th>\n",
       "      <td>Curaçao</td>\n",
       "      <td>2015</td>\n",
       "      <td>157203.0</td>\n",
       "    </tr>\n",
       "    <tr>\n",
       "      <th>16740</th>\n",
       "      <td>Sint Maarten (Dutch part)</td>\n",
       "      <td>2015</td>\n",
       "      <td>38745.0</td>\n",
       "    </tr>\n",
       "  </tbody>\n",
       "</table>\n",
       "<p>16741 rows × 3 columns</p>\n",
       "</div>"
      ],
      "text/plain": [
       "                         country  year  population\n",
       "0                    Afghanistan  1950   7752118.0\n",
       "1          Akrotiri and Dhekelia  1950     10661.0\n",
       "2                        Albania  1950   1263171.0\n",
       "3                        Algeria  1950   8872247.0\n",
       "4                 American Samoa  1950     18937.0\n",
       "...                          ...   ...         ...\n",
       "16736                     Zambia  2015  16211767.0\n",
       "16737                   Zimbabwe  2015  15602751.0\n",
       "16738                South Sudan  2015  12339812.0\n",
       "16739                    Curaçao  2015    157203.0\n",
       "16740  Sint Maarten (Dutch part)  2015     38745.0\n",
       "\n",
       "[16741 rows x 3 columns]"
      ]
     },
     "execution_count": 15,
     "metadata": {},
     "output_type": "execute_result"
    }
   ],
   "source": [
    "pop_1950"
   ]
  },
  {
   "cell_type": "code",
   "execution_count": 16,
   "id": "edcbcc48",
   "metadata": {},
   "outputs": [],
   "source": [
    "pop_1950.to_csv(\"../data/pop_1950.csv\" , index = False)"
   ]
  },
  {
   "cell_type": "code",
   "execution_count": null,
   "id": "a276d87a",
   "metadata": {},
   "outputs": [],
   "source": [
    "life = pd.read_excel (\"../data/life_expectancy.xls\")"
   ]
  },
  {
   "cell_type": "code",
   "execution_count": null,
   "id": "d1da0690",
   "metadata": {},
   "outputs": [],
   "source": [
    "life.head()"
   ]
  },
  {
   "cell_type": "code",
   "execution_count": null,
   "id": "305b02f8",
   "metadata": {},
   "outputs": [],
   "source": [
    "life.isnull().sum()"
   ]
  },
  {
   "cell_type": "code",
   "execution_count": null,
   "id": "d7c78efb",
   "metadata": {},
   "outputs": [],
   "source": [
    "life.info()"
   ]
  },
  {
   "cell_type": "code",
   "execution_count": null,
   "id": "0bd572e8",
   "metadata": {},
   "outputs": [],
   "source": [
    "life = life.dropna(axis =\"rows\")"
   ]
  },
  {
   "cell_type": "code",
   "execution_count": null,
   "id": "2309d081",
   "metadata": {},
   "outputs": [],
   "source": [
    "life"
   ]
  },
  {
   "cell_type": "code",
   "execution_count": null,
   "id": "f26a9ca9",
   "metadata": {},
   "outputs": [],
   "source": [
    "life_1950 = life[(life[\"year\"]>=1950)]"
   ]
  },
  {
   "cell_type": "code",
   "execution_count": null,
   "id": "1f68c1ea",
   "metadata": {},
   "outputs": [],
   "source": [
    "life_1950.head()"
   ]
  },
  {
   "cell_type": "code",
   "execution_count": null,
   "id": "be31b6c7",
   "metadata": {},
   "outputs": [],
   "source": [
    "life_1950.reset_index(drop = True ,inplace = True)"
   ]
  },
  {
   "cell_type": "code",
   "execution_count": null,
   "id": "e088553b",
   "metadata": {},
   "outputs": [],
   "source": [
    "life_1950"
   ]
  },
  {
   "cell_type": "code",
   "execution_count": null,
   "id": "6e135846",
   "metadata": {},
   "outputs": [],
   "source": [
    "life_1950.columns = [\"country\",\"year\",\"life expectancy\"]"
   ]
  },
  {
   "cell_type": "code",
   "execution_count": null,
   "id": "6d9e05b4",
   "metadata": {},
   "outputs": [],
   "source": [
    "life_1950"
   ]
  },
  {
   "cell_type": "code",
   "execution_count": null,
   "id": "9ff83e63",
   "metadata": {},
   "outputs": [],
   "source": [
    "life_1950.to_csv(\"../data/life_1950.csv\" , index = False)"
   ]
  },
  {
   "cell_type": "code",
   "execution_count": null,
   "id": "31b38979",
   "metadata": {},
   "outputs": [],
   "source": []
  },
  {
   "cell_type": "code",
   "execution_count": null,
   "id": "12a37813",
   "metadata": {},
   "outputs": [],
   "source": [
    "fert= pd.read_csv(\"../data/fertility_rate.csv\")"
   ]
  },
  {
   "cell_type": "code",
   "execution_count": null,
   "id": "23321af8",
   "metadata": {},
   "outputs": [],
   "source": [
    "fert.head()"
   ]
  },
  {
   "cell_type": "code",
   "execution_count": null,
   "id": "f61757c0",
   "metadata": {},
   "outputs": [],
   "source": [
    "fert.info()"
   ]
  },
  {
   "cell_type": "code",
   "execution_count": null,
   "id": "2d6167b9",
   "metadata": {},
   "outputs": [],
   "source": [
    "fert.isnull().sum()"
   ]
  },
  {
   "cell_type": "code",
   "execution_count": null,
   "id": "2194c3d0",
   "metadata": {},
   "outputs": [],
   "source": [
    "fert = fert.dropna(axis =\"rows\")"
   ]
  },
  {
   "cell_type": "code",
   "execution_count": null,
   "id": "53380153",
   "metadata": {},
   "outputs": [],
   "source": [
    "fert.info()"
   ]
  },
  {
   "cell_type": "code",
   "execution_count": null,
   "id": "ba734032",
   "metadata": {},
   "outputs": [],
   "source": [
    "fert_1950 = fert[(fert[\"year\"]>=1950)]"
   ]
  },
  {
   "cell_type": "code",
   "execution_count": null,
   "id": "f470b0aa",
   "metadata": {},
   "outputs": [],
   "source": [
    "fert_1950.head()"
   ]
  },
  {
   "cell_type": "code",
   "execution_count": null,
   "id": "6037349a",
   "metadata": {},
   "outputs": [],
   "source": [
    "fert_1950.reset_index(drop = True ,inplace = True)"
   ]
  },
  {
   "cell_type": "code",
   "execution_count": null,
   "id": "24189726",
   "metadata": {},
   "outputs": [],
   "source": [
    "fert_1950"
   ]
  },
  {
   "cell_type": "code",
   "execution_count": null,
   "id": "d5048562",
   "metadata": {},
   "outputs": [],
   "source": [
    "fert_1950.columns = [\"country\",\"year\",\"fertility\"]"
   ]
  },
  {
   "cell_type": "code",
   "execution_count": null,
   "id": "6cbab328",
   "metadata": {},
   "outputs": [],
   "source": [
    "fert_1950"
   ]
  },
  {
   "cell_type": "code",
   "execution_count": null,
   "id": "76e3dcde",
   "metadata": {},
   "outputs": [],
   "source": [
    "fert_1950.to_csv(\"../data/fert_1950.csv\", index = False)"
   ]
  },
  {
   "cell_type": "code",
   "execution_count": null,
   "id": "2776d7c3",
   "metadata": {},
   "outputs": [],
   "source": []
  }
 ],
 "metadata": {
  "kernelspec": {
   "display_name": "Python 3 (ipykernel)",
   "language": "python",
   "name": "python3"
  },
  "language_info": {
   "codemirror_mode": {
    "name": "ipython",
    "version": 3
   },
   "file_extension": ".py",
   "mimetype": "text/x-python",
   "name": "python",
   "nbconvert_exporter": "python",
   "pygments_lexer": "ipython3",
   "version": "3.9.12"
  }
 },
 "nbformat": 4,
 "nbformat_minor": 5
}
