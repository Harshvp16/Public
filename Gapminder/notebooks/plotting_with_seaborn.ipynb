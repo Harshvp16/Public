{
 "cells": [
  {
   "cell_type": "code",
   "execution_count": null,
   "id": "813c8669",
   "metadata": {},
   "outputs": [],
   "source": [
    "import pandas as pd\n",
    "import numpy as np\n",
    "import matplotlib.pyplot as plt\n",
    "import seaborn as sns"
   ]
  },
  {
   "cell_type": "code",
   "execution_count": null,
   "id": "e59b2048",
   "metadata": {},
   "outputs": [],
   "source": [
    "df= pd.read_csv(\"../data/gapminder_total.csv\")"
   ]
  },
  {
   "cell_type": "code",
   "execution_count": null,
   "id": "25bd83a1",
   "metadata": {},
   "outputs": [],
   "source": [
    "df.head()"
   ]
  },
  {
   "cell_type": "code",
   "execution_count": null,
   "id": "acf80245",
   "metadata": {},
   "outputs": [],
   "source": [
    "df_subset = df[df[\"year\"] == 1960]"
   ]
  },
  {
   "cell_type": "code",
   "execution_count": null,
   "id": "b8306707",
   "metadata": {},
   "outputs": [],
   "source": [
    "df_subset"
   ]
  },
  {
   "cell_type": "code",
   "execution_count": null,
   "id": "f7824304",
   "metadata": {},
   "outputs": [],
   "source": [
    "# plt.subplots(figsize=(12,5))\n",
    "plt.figure(figsize=(12, 5))\n",
    "plt.title(\"Life Expectancy vs Fertility Rate\")\n",
    "plt.ylabel(\"fertility\")\n",
    "plt.xlabel(\"Life Expectancy\")\n",
    "\n",
    "sns.scatterplot(x= \"life expectancy\", y = \"fertility\",\n",
    "                s =(df_subset[\"population\"]/1000000),\n",
    "                data= df_subset)\n",
    "plt.axis([0, 85, 0, 9.5])\n",
    "# plt.savefig(\"../data/plot1960.png\")"
   ]
  },
  {
   "cell_type": "code",
   "execution_count": null,
   "id": "b17df11c",
   "metadata": {},
   "outputs": [],
   "source": []
  },
  {
   "cell_type": "markdown",
   "id": "da4ec984",
   "metadata": {},
   "source": [
    "### Bonus Task"
   ]
  },
  {
   "cell_type": "code",
   "execution_count": null,
   "id": "94134672",
   "metadata": {},
   "outputs": [],
   "source": [
    "# Rotate the x-ticks by 45 degrees\n",
    "# Color each point according to continent\n",
    "# Annotate 2 to 4 countries\n",
    "# Add grid-lines\n",
    "# Adjust the opacity of the points\n",
    "# Try out different plotting themes"
   ]
  },
  {
   "cell_type": "code",
   "execution_count": null,
   "id": "ff33622e",
   "metadata": {},
   "outputs": [],
   "source": [
    "plt.figure(figsize=(20, 10))\n",
    "plt.title(\"Life Expectancy vs Fertility Rate\")\n",
    "plt.xticks(rotation =45)\n",
    "plt.grid()\n",
    "plt.axis([0, 85, 0, 9.5])\n",
    "\n",
    "sns.scatterplot(x= \"life expectancy\", y = \"fertility\", s =(df_subset[\"population\"]/100000),\n",
    "                hue= \"continent\", alpha = 0.5,\n",
    "                data= df_subset)\n",
    "# plt.legend(h[0:3],l[0:3],bbox_to_anchor=(1.05, 1), loc=2, borderaxespad=0., fontsize=13)\n",
    "plt.savefig(\"../data/plt2000.png\")"
   ]
  },
  {
   "cell_type": "code",
   "execution_count": null,
   "id": "51ef01a2",
   "metadata": {},
   "outputs": [],
   "source": [
    "countries = [\"India\",\"China\",\"Germany\"]\n",
    "\n",
    "plt.figure(figsize=(20, 10))\n",
    "plt.title(\"Life Expectancy vs Fertility Rate\")\n",
    "plt.xticks(rotation =45)\n",
    "plt.grid()\n",
    "plt.axis([0, 85, 0, 9.5])\n",
    "\n",
    "g = sns.scatterplot(x= \"life expectancy\", y = \"fertility\", size =\"population\", sizes =(10,5000),\n",
    "                hue= \"continent\", alpha = 0.5,\n",
    "                data= df_subset)\n",
    "\n",
    "h,l = g.get_legend_handles_labels()\n",
    "plt.legend(h[0:7],l[0:7],bbox_to_anchor=(1, 1), fontsize=13 )\n",
    "\n",
    "for i in countries:\n",
    "    x_cor = (df_subset.loc[df_subset[\"country\"]== i ,[\"life expectancy\"]].values[0])\n",
    "    y_cor = (df_subset.loc[df_subset[\"country\"]== i ,[\"fertility\"]].values[0])\n",
    "    plt.text(s= i, x=x_cor,y=y_cor ,fontsize= 8, weight= \"bold\")"
   ]
  },
  {
   "cell_type": "code",
   "execution_count": null,
   "id": "5d2e3dc2",
   "metadata": {},
   "outputs": [],
   "source": [
    "df_s= df[df[\"year\"] >= 2000]"
   ]
  },
  {
   "cell_type": "code",
   "execution_count": null,
   "id": "b26d7774",
   "metadata": {},
   "outputs": [],
   "source": [
    "bool1 = (df_s[\"life expectancy\"] >= 80) & (df_s[\"fertility\"] >= 2)\n",
    "df_sub = df_s[bool1]\n",
    "df_sub"
   ]
  },
  {
   "cell_type": "code",
   "execution_count": null,
   "id": "bb88ec22",
   "metadata": {},
   "outputs": [],
   "source": [
    "\n",
    "sns.histplot(x=\"life expectancy\", y = \"fertility\",hue=\"country\",multiple = \"dodge\", \n",
    "             data= df_sub)\n"
   ]
  },
  {
   "cell_type": "code",
   "execution_count": null,
   "id": "493815af",
   "metadata": {},
   "outputs": [],
   "source": []
  }
 ],
 "metadata": {
  "kernelspec": {
   "display_name": "Python 3 (ipykernel)",
   "language": "python",
   "name": "python3"
  },
  "language_info": {
   "codemirror_mode": {
    "name": "ipython",
    "version": 3
   },
   "file_extension": ".py",
   "mimetype": "text/x-python",
   "name": "python",
   "nbconvert_exporter": "python",
   "pygments_lexer": "ipython3",
   "version": "3.9.12"
  }
 },
 "nbformat": 4,
 "nbformat_minor": 5
}
