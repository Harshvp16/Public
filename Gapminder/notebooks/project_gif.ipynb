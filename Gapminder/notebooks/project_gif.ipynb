{
 "cells": [
  {
   "cell_type": "code",
   "execution_count": 18,
   "id": "0ce50919",
   "metadata": {},
   "outputs": [],
   "source": [
    "import pandas as pd\n",
    "import numpy as np\n",
    "import matplotlib.pyplot as plt\n",
    "import seaborn as sns\n",
    "import imageio as io\n",
    "import os"
   ]
  },
  {
   "cell_type": "code",
   "execution_count": 2,
   "id": "1bed2d5f",
   "metadata": {},
   "outputs": [],
   "source": [
    "df= pd.read_csv(\"../data/gapminder_total.csv\")"
   ]
  },
  {
   "cell_type": "code",
   "execution_count": 4,
   "id": "86d2902d",
   "metadata": {},
   "outputs": [
    {
     "data": {
      "text/html": [
       "<div>\n",
       "<style scoped>\n",
       "    .dataframe tbody tr th:only-of-type {\n",
       "        vertical-align: middle;\n",
       "    }\n",
       "\n",
       "    .dataframe tbody tr th {\n",
       "        vertical-align: top;\n",
       "    }\n",
       "\n",
       "    .dataframe thead th {\n",
       "        text-align: right;\n",
       "    }\n",
       "</style>\n",
       "<table border=\"1\" class=\"dataframe\">\n",
       "  <thead>\n",
       "    <tr style=\"text-align: right;\">\n",
       "      <th></th>\n",
       "      <th>continent</th>\n",
       "      <th>country</th>\n",
       "      <th>year</th>\n",
       "      <th>life expectancy</th>\n",
       "      <th>fertility</th>\n",
       "      <th>population</th>\n",
       "    </tr>\n",
       "  </thead>\n",
       "  <tbody>\n",
       "    <tr>\n",
       "      <th>11083</th>\n",
       "      <td>South America</td>\n",
       "      <td>Venezuela</td>\n",
       "      <td>2011</td>\n",
       "      <td>74.8</td>\n",
       "      <td>2.44</td>\n",
       "      <td>29427631.0</td>\n",
       "    </tr>\n",
       "    <tr>\n",
       "      <th>11084</th>\n",
       "      <td>South America</td>\n",
       "      <td>Venezuela</td>\n",
       "      <td>2012</td>\n",
       "      <td>74.6</td>\n",
       "      <td>2.42</td>\n",
       "      <td>29854238.0</td>\n",
       "    </tr>\n",
       "    <tr>\n",
       "      <th>11085</th>\n",
       "      <td>South America</td>\n",
       "      <td>Venezuela</td>\n",
       "      <td>2013</td>\n",
       "      <td>74.7</td>\n",
       "      <td>2.39</td>\n",
       "      <td>30276045.0</td>\n",
       "    </tr>\n",
       "    <tr>\n",
       "      <th>11086</th>\n",
       "      <td>South America</td>\n",
       "      <td>Venezuela</td>\n",
       "      <td>2014</td>\n",
       "      <td>74.8</td>\n",
       "      <td>2.36</td>\n",
       "      <td>30693827.0</td>\n",
       "    </tr>\n",
       "    <tr>\n",
       "      <th>11087</th>\n",
       "      <td>South America</td>\n",
       "      <td>Venezuela</td>\n",
       "      <td>2015</td>\n",
       "      <td>74.8</td>\n",
       "      <td>2.34</td>\n",
       "      <td>31108083.0</td>\n",
       "    </tr>\n",
       "  </tbody>\n",
       "</table>\n",
       "</div>"
      ],
      "text/plain": [
       "           continent    country  year  life expectancy  fertility  population\n",
       "11083  South America  Venezuela  2011             74.8       2.44  29427631.0\n",
       "11084  South America  Venezuela  2012             74.6       2.42  29854238.0\n",
       "11085  South America  Venezuela  2013             74.7       2.39  30276045.0\n",
       "11086  South America  Venezuela  2014             74.8       2.36  30693827.0\n",
       "11087  South America  Venezuela  2015             74.8       2.34  31108083.0"
      ]
     },
     "execution_count": 4,
     "metadata": {},
     "output_type": "execute_result"
    }
   ],
   "source": [
    "df.tail()"
   ]
  },
  {
   "cell_type": "code",
   "execution_count": 16,
   "id": "3c6bd846",
   "metadata": {},
   "outputs": [],
   "source": [
    "\n",
    "\n",
    "for i in range(1960,2016):\n",
    "    df_subset = df[df[\"year\"] == i]\n",
    "    plt.figure(figsize=(20, 10))\n",
    "    plt.title(\"Life Expectancy vs Fertility Rate\")\n",
    "    plt.xticks(rotation =45)\n",
    "    plt.grid()\n",
    "    plt.axis([0, 85, 0, 9.5])\n",
    "\n",
    "    sns.scatterplot(x= \"life expectancy\", y = \"fertility\", s =(df_subset[\"population\"]/100000),\n",
    "                hue= \"continent\", alpha = 0.5,\n",
    "                data= df_subset)\n",
    "    plt.legend(bbox_to_anchor = (1,1), frameon = False)\n",
    "    plt.savefig(f\"../data/plot_{i}.png\")\n",
    "    plt.close()"
   ]
  },
  {
   "cell_type": "code",
   "execution_count": null,
   "id": "ea3b2743",
   "metadata": {},
   "outputs": [],
   "source": []
  },
  {
   "cell_type": "code",
   "execution_count": 20,
   "id": "33eaa471",
   "metadata": {},
   "outputs": [],
   "source": [
    "\n",
    "images = []\n",
    "\n",
    "for year in range(1960, 2016):\n",
    "    filename = f'../data/img/plot_{year}.png'\n",
    "    images.append(imageio.imread(filename))\n",
    "\n",
    "imageio.mimsave(\"../data/gapminder_data1.gif\", images, fps=10)\n"
   ]
  },
  {
   "cell_type": "code",
   "execution_count": null,
   "id": "6e8c93f6",
   "metadata": {},
   "outputs": [],
   "source": []
  }
 ],
 "metadata": {
  "kernelspec": {
   "display_name": "Python 3 (ipykernel)",
   "language": "python",
   "name": "python3"
  },
  "language_info": {
   "codemirror_mode": {
    "name": "ipython",
    "version": 3
   },
   "file_extension": ".py",
   "mimetype": "text/x-python",
   "name": "python",
   "nbconvert_exporter": "python",
   "pygments_lexer": "ipython3",
   "version": "3.9.12"
  }
 },
 "nbformat": 4,
 "nbformat_minor": 5
}
